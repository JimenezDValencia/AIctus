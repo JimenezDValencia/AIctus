{
 "cells": [
  {
   "cell_type": "code",
   "execution_count": 1,
   "id": "f9e54103-d202-468b-8bf3-38a2f3b80718",
   "metadata": {},
   "outputs": [],
   "source": [
    "### Librerías utilizadas ###\n",
    "\n",
    "import pandas as pd\n",
    "import numpy as np\n",
    "import matplotlib.pyplot as plt\n",
    "import plotly.express as px\n",
    "import seaborn as sns\n",
    "import statsmodels.formula.api as smf\n",
    "import random\n",
    "from plotly.subplots import make_subplots\n",
    "from statsmodels.formula.api import logit\n",
    "from scipy.stats import chi2_contingency\n",
    "from scipy.stats import ks_2samp\n",
    "from sklearn.experimental import enable_iterative_imputer\n",
    "from sklearn.impute import IterativeImputer, KNNImputer, SimpleImputer\n",
    "from sklearn.preprocessing import OneHotEncoder\n",
    "from ctgan import CTGAN\n",
    "\n",
    "\n",
    "# Para ignorar warnings\n",
    "import warnings\n",
    "warnings.filterwarnings('ignore')\n"
   ]
  },
  {
   "cell_type": "code",
   "execution_count": 347,
   "id": "13c6fbbb-4db2-4eda-994e-4a74ac3a0384",
   "metadata": {},
   "outputs": [],
   "source": [
    "df = (\n",
    "    pd.read_csv(\"stroke.csv\")\n",
    "    .drop(\"id\", axis=1)\n",
    "    )"
   ]
  },
  {
   "cell_type": "markdown",
   "id": "0b32660f-d10d-48c0-b32f-a19f60136c83",
   "metadata": {},
   "source": [
    "# <span style=\"color:#1489fd;\">**Preprocesamiento**</span>"
   ]
  },
  {
   "cell_type": "markdown",
   "id": "a058529f-4c31-4c00-af9b-8b3fc8f38994",
   "metadata": {},
   "source": [
    "***Se eliminan valores atípicos de bmi:***"
   ]
  },
  {
   "cell_type": "code",
   "execution_count": 283,
   "id": "bd7380e4-f8b4-4b52-9005-39dffdae3ce6",
   "metadata": {},
   "outputs": [],
   "source": [
    "df = df[(df['bmi'] <= 70) | (df['bmi'].isna())]\n",
    "df = df[(df['bmi'] >= 11) | (df['bmi'].isna())]"
   ]
  },
  {
   "cell_type": "markdown",
   "id": "8a17b41d-5a03-4d0a-bcc4-0c05157bfe89",
   "metadata": {},
   "source": [
    "***Se decide retirar a todos los menores de 5 años, ya que este modelo no se enfocará en población preinfante:***"
   ]
  },
  {
   "cell_type": "code",
   "execution_count": 285,
   "id": "fb505c62-0063-4d3e-a726-e073722129c6",
   "metadata": {},
   "outputs": [],
   "source": [
    "df = df[df[\"age\"]>4]"
   ]
  },
  {
   "cell_type": "markdown",
   "id": "f5725904-186d-4e95-b5f9-ed5651938cb8",
   "metadata": {},
   "source": [
    "***Se asumirá que menores de 18 años catalogados en Estatus de Fumador como \"desconocido\", son \"no_fumadores\":***"
   ]
  },
  {
   "cell_type": "code",
   "execution_count": 287,
   "id": "89c8be41-5ced-4c1f-ab33-00e12604de89",
   "metadata": {},
   "outputs": [],
   "source": [
    "# Se aprovecha a cambiar los nombres de las categorías (esto solo por comodidad para el autor)\n",
    "df['smoking_status'] = df['smoking_status'].replace({'smokes':'fumador',\n",
    "                                                     'formerly smoked':'ex_fumador',\n",
    "                                                     'never smoked':'no_fumador',\n",
    "                                                     'Unknown':'desconocido'\n",
    "})\n",
    "\n",
    "# Cambiar smoking_status de \"desconocido\" a \"no_fuma\" cuando la edad sea menor a 18 años\n",
    "df.loc[\n",
    "    (df['smoking_status'] == 'desconocido') & \n",
    "    (df['age'] <18)\n",
    ", 'smoking_status'] = 'no_fumador'"
   ]
  },
  {
   "cell_type": "markdown",
   "id": "4874e90f-5a64-47ca-8385-f136f22c18e7",
   "metadata": {},
   "source": [
    "## <span style=\"color:#1489fd;\">**Tratamiento de valores nulos:**</span>"
   ]
  },
  {
   "cell_type": "markdown",
   "id": "6eab69d7-a05d-42cd-b7e2-3958be82a439",
   "metadata": {},
   "source": [
    "### ***Imputación***\n",
    "\n",
    "Para tratar los valores faltantes de IMC se optó por utilizar un método de imputación basado en KNN, el algoritmo KNNImputer, con k=5 vecinos. Las variables utilizadas para predecir el IMC, fueron: edad, estatus de fumador, hipertensión, cardiopatía, género, tipo de trabajo y estado civil."
   ]
  },
  {
   "cell_type": "code",
   "execution_count": 289,
   "id": "65bc9d62-a8a1-4691-b65d-7c8f0099604e",
   "metadata": {},
   "outputs": [],
   "source": [
    "# Guardar una copia de la columna original de BMI antes de imputar (esto será utilizado para validar después)\n",
    "bmi_original = df[\"bmi\"].dropna().copy()"
   ]
  },
  {
   "cell_type": "code",
   "execution_count": 291,
   "id": "814dd983-114b-411b-9c07-329c7a7e0dd1",
   "metadata": {},
   "outputs": [
    {
     "name": "stdout",
     "output_type": "stream",
     "text": [
      "Valores nulos restantes en BMI después de la imputación: 0\n"
     ]
    }
   ],
   "source": [
    "df_copy = df.copy()\n",
    "\n",
    "# Seleccionar variables para la imputación (sin incluir la variable objetivo 'stroke')\n",
    "vars_para_imputar = ['age', 'smoking_status', 'hypertension', 'heart_disease', 'gender', 'work_type', 'ever_married']\n",
    "df_impute = pd.get_dummies(df_copy[vars_para_imputar + ['bmi']], drop_first=True)\n",
    "\n",
    "# Aplicar KNNImputer (usando k=5 vecinos)\n",
    "\n",
    "knn_imputer = KNNImputer(n_neighbors=5)\n",
    "df_impute.iloc[:, :] = knn_imputer.fit_transform(df_impute)\n",
    "\n",
    "# Restaurar la columna BMI imputada en el DataFrame original\n",
    "df_copy['bmi'] = df_impute['bmi']\n",
    "\n",
    "# Asignamos el DataFrame imputado a df\n",
    "df = df_copy\n",
    "\n",
    "# Definir la variable con los valores imputados\n",
    "bmi_imputed = df[\"bmi\"]\n",
    "\n",
    "print(\"Valores nulos restantes en BMI después de la imputación:\", df_copy['bmi'].isna().sum())"
   ]
  },
  {
   "cell_type": "markdown",
   "id": "c3900662-dbbd-4291-bb03-1325f0e45ad0",
   "metadata": {},
   "source": [
    "### ***Validación de la Imputación***\n",
    "\n",
    "Se valida la imputación de valores nulos comparando la distribución de IMC antes y después de la imputación, a través de gráficos de estimación de densidad de kernel (KDE) y prueba de Kolmogorov-Smirnov."
   ]
  },
  {
   "cell_type": "markdown",
   "id": "995d4a12-dcbb-4a0a-b1de-2597e2e745da",
   "metadata": {},
   "source": [
    "#### **Gráfico de estimación de densidad (KDE plot):**"
   ]
  },
  {
   "cell_type": "code",
   "execution_count": 293,
   "id": "52f12c68-30dd-4036-9955-149b6ec06a86",
   "metadata": {},
   "outputs": [
    {
     "data": {
      "image/png": "[encoded data removed]",
      "text/plain": [
       "<Figure size 1000x500 with 1 Axes>"
      ]
     },
     "metadata": {},
     "output_type": "display_data"
    }
   ],
   "source": [
    "# Graficar la distribución de BMI\n",
    "plt.figure(figsize=(10,5))\n",
    "sns.kdeplot(df['bmi'], label=\"BMI después de la imputación\", color=\"blue\")\n",
    "sns.kdeplot(bmi_original.dropna(), label=\"BMI original (sin nulos)\", color=\"red\", linestyle=\"dashed\")\n",
    "plt.legend()\n",
    "plt.title(\"Distribución de BMI antes y después de la imputación\")\n",
    "plt.show()\n"
   ]
  },
  {
   "cell_type": "markdown",
   "id": "f5a9dbf6-e3ed-4de4-9d1f-61169390cdd6",
   "metadata": {},
   "source": [
    "***La distribución de BMI después de la imputación se mantiene similar a la original, significa que no se introdujo sesgo significativo.***"
   ]
  },
  {
   "cell_type": "code",
   "execution_count": 295,
   "id": "5912b33b-499c-4d06-ae4f-1727d75b2e22",
   "metadata": {},
   "outputs": [
    {
     "name": "stdout",
     "output_type": "stream",
     "text": [
      "Estadístico KS: 0.0092\n",
      "P-valor: 0.9866\n",
      "✅ No se rechaza la hipótesis nula: Las distribuciones de BMI antes y después de la imputación no son significativamente diferentes.\n"
     ]
    }
   ],
   "source": [
    "# Aplicar la prueba de Kolmogorov-Smirnov\n",
    "ks_stat, ks_p_value = ks_2samp(bmi_original, bmi_imputed)\n",
    "\n",
    "# Mostrar resultados\n",
    "print(f\"Estadístico KS: {ks_stat:.4f}\")\n",
    "print(f\"P-valor: {ks_p_value:.4f}\")\n",
    "\n",
    "# Interpretación\n",
    "if ks_p_value > 0.05:\n",
    "    print(\"✅ No se rechaza la hipótesis nula: Las distribuciones de BMI antes y después de la imputación no son significativamente diferentes.\")\n",
    "else:\n",
    "    print(\"⚠️ Se rechaza la hipótesis nula: La distribución de BMI después de la imputación es significativamente diferente de la original.\")"
   ]
  },
  {
   "cell_type": "markdown",
   "id": "47b7167d-ef00-4a07-af85-afe63170a25f",
   "metadata": {},
   "source": [
    "***"
   ]
  },
  {
   "cell_type": "markdown",
   "id": "88d4a8f6-29c4-4b43-9253-f79cae27ae57",
   "metadata": {},
   "source": [
    "## <span style=\"color:#1489fd;\">**Estratificación de variables numéricas:**</span>"
   ]
  },
  {
   "cell_type": "code",
   "execution_count": 297,
   "id": "e52f8bd5-7fc4-406e-ac4c-e2fc2862154b",
   "metadata": {},
   "outputs": [],
   "source": [
    "# Estratificar IMC\n",
    "df['rango_imc'] = pd.cut(df['bmi'], \n",
    "                          bins=[0, 18.5, 24.9, 29.9, float('inf')], \n",
    "                          labels=['bajo_peso', 'saludable', 'sobrepeso', 'obeso'])\n",
    "\n",
    "# Estratificar Edad\n",
    "df['rango_etario'] = pd.cut(df['age'], \n",
    "                            bins=[4, 12, 17, 39, 59, 74, float('inf')], \n",
    "                            labels=['infante', 'adolescente', 'adulto_joven', 'adulto', 'anciano_joven', 'anciano'])\n",
    "\n",
    "\n",
    "# Estratificar Glicemia Promedio\n",
    "df['rango_glicemia_promedio'] = pd.cut(df['avg_glucose_level'], \n",
    "                                        bins=[0, 70, 100, 125, 200, float('inf')], \n",
    "                                        labels=['baja', 'normal', 'alta', 'muy_alta', 'extremadamente_alta'])"
   ]
  },
  {
   "cell_type": "markdown",
   "id": "70c07e5d-5d5f-4182-bbc4-b7923ed5875f",
   "metadata": {},
   "source": [
    "***"
   ]
  },
  {
   "cell_type": "markdown",
   "id": "582c0be0-b71e-4ab8-8315-236ea11a2f1c",
   "metadata": {},
   "source": [
    "## <span style=\"color:#1489fd;\">**Tratamiento de variable smoking_status:**</span>"
   ]
  },
  {
   "cell_type": "markdown",
   "id": "5765a747-3388-4ee7-9440-564544b6ee66",
   "metadata": {},
   "source": [
    "**Se eliminan los fumadores desconocidos restantes:**"
   ]
  },
  {
   "cell_type": "code",
   "execution_count": 299,
   "id": "8c6db23c-28ce-4b20-889c-f7ff1648a0c7",
   "metadata": {},
   "outputs": [
    {
     "name": "stdout",
     "output_type": "stream",
     "text": [
      "Se han eliminado 862 registros con smoking_status = 'desconocido'.\n",
      "\n",
      "Distribución de smoking_status después de la eliminación:\n",
      "smoking_status\n",
      "no_fumador    2316\n",
      "ex_fumador     885\n",
      "fumador        788\n",
      "Name: count, dtype: int64\n"
     ]
    }
   ],
   "source": [
    "# Filtrar y eliminar las filas donde smoking_status es \"desconocido\"\n",
    "df_sin_desconocidos = df[df['smoking_status'] != 'desconocido'].copy()\n",
    "\n",
    "# Mostrar el número de filas eliminadas\n",
    "filas_eliminadas = df.shape[0] - df_sin_desconocidos.shape[0]\n",
    "print(f\"Se han eliminado {filas_eliminadas} registros con smoking_status = 'desconocido'.\")\n",
    "\n",
    "# Verificar la nueva distribución de smoking_status\n",
    "print(\"\\nDistribución de smoking_status después de la eliminación:\")\n",
    "print(df_sin_desconocidos['smoking_status'].value_counts())"
   ]
  },
  {
   "cell_type": "markdown",
   "id": "b9c211c8-796a-48f8-b62c-dd813be67148",
   "metadata": {},
   "source": [
    "\n",
    "**Estatus de fumador se transforma en una variable binaria fumador/ex_fumador = Si/No (1/0) :**"
   ]
  },
  {
   "cell_type": "code",
   "execution_count": 301,
   "id": "32bd025d-ed61-44d8-bb50-8b2df7c5f7af",
   "metadata": {},
   "outputs": [],
   "source": [
    "df = df_sin_desconocidos"
   ]
  },
  {
   "cell_type": "code",
   "execution_count": 303,
   "id": "51f259ce-75b7-42c1-92c3-ca739f9aaeb6",
   "metadata": {},
   "outputs": [],
   "source": [
    "# Asignar 1 si la categoría es 'fumador' o 'ex_fumador', y 0 en caso contrario.\n",
    "df['smoker'] = np.where(df['smoking_status'].isin(['fumador', 'ex_fumador']), 1, 0)"
   ]
  },
  {
   "cell_type": "markdown",
   "id": "9d5c945c-9aa5-470e-98b3-7f89e09450c4",
   "metadata": {},
   "source": [
    "***"
   ]
  },
  {
   "cell_type": "markdown",
   "id": "09fba4ae-d396-48a0-8ef5-98adf4f3bf7b",
   "metadata": {},
   "source": [
    "## <span style=\"color:#1489fd;\">**Definiendo Características importantes:**</span>"
   ]
  },
  {
   "cell_type": "code",
   "execution_count": 305,
   "id": "a2d10096-ac15-4a0a-ae6a-66e00da07e92",
   "metadata": {},
   "outputs": [],
   "source": [
    "# Definir las características importantes (excluyendo variables irrelevantes)\n",
    "features_importantes = [\"rango_etario\", \"rango_glicemia_promedio\", \"rango_imc\", \"smoker\", \"hypertension\", \"heart_disease\", \"stroke\"]\n",
    "\n",
    "# Filtrar el dataset con solo las variables seleccionadas\n",
    "df = df[features_importantes]"
   ]
  },
  {
   "cell_type": "markdown",
   "id": "ed04abc5-e3c5-4e5a-9cc3-3849294678b4",
   "metadata": {},
   "source": [
    "***"
   ]
  },
  {
   "cell_type": "markdown",
   "id": "3d76b5aa-bcf6-48bc-a601-3c082d38a5af",
   "metadata": {},
   "source": [
    "## <span style=\"color:#1489fd;\">**Balanceo:**</span>"
   ]
  },
  {
   "cell_type": "markdown",
   "id": "2bba8e3a-93ca-42ad-a744-11ef9a5d6dc2",
   "metadata": {},
   "source": [
    "**Reducción de ht_0 y hd_0:**"
   ]
  },
  {
   "cell_type": "code",
   "execution_count": 307,
   "id": "7087e360-7c73-45c5-953a-efa2b7d57960",
   "metadata": {},
   "outputs": [
    {
     "name": "stdout",
     "output_type": "stream",
     "text": [
      "Se han eliminado 2000 muestras.\n",
      "Nuevo tamaño del DataFrame: (1989, 7)\n"
     ]
    }
   ],
   "source": [
    "n_remover = 2000  # Cambia este valor según tus necesidades\n",
    "\n",
    "# Filtrar las filas donde heart_disease = 0 y hypertension = 0\n",
    "mask = (df['heart_disease'] == 0) & (df['hypertension'] == 0)\n",
    "subset = df[mask]\n",
    "\n",
    "# Verificar que existan suficientes muestras para eliminar\n",
    "if n_remover > subset.shape[0]:\n",
    "    print(f\"El número a eliminar ({n_remover}) es mayor que el número de muestras disponibles ({subset.shape[0]}).\")\n",
    "else:\n",
    "    # Seleccionar aleatoriamente los índices a eliminar\n",
    "    indices_a_remover = subset.sample(n=n_remover, random_state=42).index\n",
    "    \n",
    "    # Crear un nuevo DataFrame eliminando esos índices\n",
    "    df_hthd_disminuido = df.drop(indices_a_remover)\n",
    "    \n",
    "    print(\"Se han eliminado\", n_remover, \"muestras.\")\n",
    "    print(\"Nuevo tamaño del DataFrame:\", df_hthd_disminuido.shape)"
   ]
  },
  {
   "cell_type": "code",
   "execution_count": 309,
   "id": "c27e82e8-7801-47b2-b618-714bd353c8a6",
   "metadata": {},
   "outputs": [],
   "source": [
    "df_reducido = df_hthd_disminuido"
   ]
  },
  {
   "cell_type": "code",
   "execution_count": 311,
   "id": "a52759b6-678d-4f6e-a941-bf4272aceb7e",
   "metadata": {},
   "outputs": [],
   "source": [
    "df_hd_0 = df_reducido[df_reducido[\"heart_disease\"] == 0]\n",
    "\n",
    "df_hd_0_eliminable = df_hd_0.sample(n=1500, random_state=42)\n",
    "\n",
    "df_hd_balanceado = df_reducido.drop(df_hd_0_eliminable.index)"
   ]
  },
  {
   "cell_type": "code",
   "execution_count": 313,
   "id": "d629910e-766f-4f1d-8b67-6ac6df467ee3",
   "metadata": {},
   "outputs": [],
   "source": [
    "df_reducido = df_hd_balanceado"
   ]
  },
  {
   "cell_type": "code",
   "execution_count": 315,
   "id": "b2abd8ea-cd6d-4f43-89e3-e3331a6cc057",
   "metadata": {},
   "outputs": [],
   "source": [
    "df_ht_0 = df_reducido[df_reducido[\"hypertension\"] == 0]\n",
    "\n",
    "df_ht_0_eliminable = df_ht_0.sample(n=200, random_state=42)\n",
    "\n",
    "df_ht_balanceado = df_reducido.drop(df_ht_0_eliminable.index)\n"
   ]
  },
  {
   "cell_type": "code",
   "execution_count": 317,
   "id": "322e6860-61ca-40a1-9131-59907f981ebd",
   "metadata": {},
   "outputs": [],
   "source": [
    "df_reducido = df_ht_balanceado"
   ]
  },
  {
   "cell_type": "markdown",
   "id": "4ae3c878-d613-4760-a1e7-c20b5adba8de",
   "metadata": {},
   "source": [
    "**Reducción de rango_glicemia_promedio normal:**"
   ]
  },
  {
   "cell_type": "code",
   "execution_count": 320,
   "id": "6c43636e-048e-4abd-bab7-5bf9a8c727cb",
   "metadata": {},
   "outputs": [],
   "source": [
    "df_reducido_glunormal = df_reducido[df_reducido[\"rango_glicemia_promedio\"] == \"normal\"]\n",
    "\n",
    "df_glunormal_eliminable = df_reducido_glunormal.sample(n=50, random_state=42)\n",
    "\n",
    "df_reducido_glunormal_disminuido = df_reducido.drop(df_glunormal_eliminable.index)\n",
    "\n",
    "df_tratado = df_reducido_glunormal_disminuido"
   ]
  },
  {
   "cell_type": "markdown",
   "id": "3fd0b9bc-ab84-481c-9bf0-20a4e3c44eda",
   "metadata": {},
   "source": [
    "### **Síntesis de datos con CTGAN:**\n"
   ]
  },
  {
   "cell_type": "code",
   "execution_count": 323,
   "id": "57cd1ff1-4925-46f7-9fb7-6bd9e1b626ae",
   "metadata": {},
   "outputs": [
    {
     "name": "stdin",
     "output_type": "stream",
     "text": [
      "Ingrese el número de muestras sintéticas de stroke=1 a generar:  3583\n"
     ]
    },
    {
     "name": "stdout",
     "output_type": "stream",
     "text": [
      "\n",
      "⏳ Entrenando modelo CTGAN con los datos de stroke=1...\n",
      "\n",
      "🔄 Generando datos sintéticos...\n",
      "\n",
      "✅ Datos sintéticos generados:\n",
      "    rango_etario rango_glicemia_promedio  rango_imc  smoker  hypertension  \\\n",
      "0        anciano                  normal  saludable       0             1   \n",
      "1        anciano     extremadamente_alta      obeso       1             0   \n",
      "2  anciano_joven                    baja      obeso       0             1   \n",
      "3        anciano                  normal  saludable       0             1   \n",
      "4  anciano_joven     extremadamente_alta      obeso       1             1   \n",
      "\n",
      "   heart_disease  stroke  \n",
      "0              0       1  \n",
      "1              1       1  \n",
      "2              0       1  \n",
      "3              0       1  \n",
      "4              1       1  \n",
      "\n",
      "📊 Se han generado 3583 nuevas muestras de stroke=1 y se han agregado al dataset.\n",
      "\n"
     ]
    }
   ],
   "source": [
    "# Preguntar cuántas muestras sintéticas de stroke=1 generar\n",
    "num_synthetic_samples = int(input(\"Ingrese el número de muestras sintéticas de stroke=1 a generar: \")) #3583 para balancear\n",
    "\n",
    "# Filtrar solo stroke=1 del dataset reducido para entrenar CTGAN\n",
    "df_synthetic_base = df_reducido[df_reducido[\"stroke\"] == 1].copy()\n",
    "\n",
    "# Definir el modelo CTGAN\n",
    "ctgan = CTGAN(epochs=750)  # se probó con distintos números de épocas. 750 fue la que arrojó mejores resultados hasta ahora\n",
    "\n",
    "# Entrenar CTGAN con los datos de stroke=1\n",
    "print(\"\\n⏳ Entrenando modelo CTGAN con los datos de stroke=1...\")\n",
    "ctgan.fit(df_synthetic_base, discrete_columns=df_synthetic_base.columns.tolist())\n",
    "\n",
    "# Generar datos sintéticos\n",
    "print(\"\\n🔄 Generando datos sintéticos...\")\n",
    "df_synthetic = ctgan.sample(num_synthetic_samples)\n",
    "\n",
    "# Verificar las primeras filas de los datos generados\n",
    "print(\"\\n✅ Datos sintéticos generados:\")\n",
    "print(df_synthetic.head())\n",
    "\n",
    "# Combinar los datos originales con los sintéticos\n",
    "df_balanceado = pd.concat([df, df_synthetic], ignore_index=True)\n",
    "\n",
    "print(f\"\\n📊 Se han generado {num_synthetic_samples} nuevas muestras de stroke=1 y se han agregado al dataset.\\n\")"
   ]
  },
  {
   "cell_type": "code",
   "execution_count": 146,
   "id": "9549f91a-a04f-414c-8d11-2eaa5bc3533d",
   "metadata": {},
   "outputs": [],
   "source": [
    "### En caso de que se desee guardar el dataset balanceado en un documento CSV, descomentar ###\n",
    "\n",
    "# df_balanceado.to_csv(\"stroke_5.csv\", index=False)\n",
    "\n",
    "# print(\"✅ Archivo 'stroke_5.csv' guardado exitosamente.\")"
   ]
  }
 ],
 "metadata": {
  "kernelspec": {
   "display_name": "Python 3 (ipykernel)",
   "language": "python",
   "name": "python3"
  },
  "language_info": {
   "codemirror_mode": {
    "name": "ipython",
    "version": 3
   },
   "file_extension": ".py",
   "mimetype": "text/x-python",
   "name": "python",
   "nbconvert_exporter": "python",
   "pygments_lexer": "ipython3",
   "version": "3.12.3"
  }
 },
 "nbformat": 4,
 "nbformat_minor": 5
}
