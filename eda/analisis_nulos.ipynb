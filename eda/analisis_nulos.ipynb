{
 "cells": [
  {
   "cell_type": "code",
   "execution_count": 1,
   "id": "f5fa235b-ae50-4ec7-9281-88ec54b34a9d",
   "metadata": {},
   "outputs": [],
   "source": [
    "import numpy as np\n",
    "import pandas as pd\n",
    "from scipy.stats import chi2, norm, mannwhitneyu, ks_2samp\n",
    "from scipy import stats\n",
    "\n",
    "import matplotlib.pyplot as plt\n",
    "import plotly.express as px\n",
    "import seaborn as sns\n",
    "import statsmodels.formula.api as smf\n",
    "from plotly.subplots import make_subplots\n",
    "from statsmodels.formula.api import logit\n",
    "from scipy.stats import chi2_contingency\n",
    "\n",
    "from sklearn.experimental import enable_iterative_imputer\n",
    "from sklearn.impute import IterativeImputer\n",
    "\n",
    "# Para ignorar warnings\n",
    "import warnings\n",
    "warnings.filterwarnings('ignore')\n",
    "\n",
    "df = (\n",
    "    pd.read_csv(\"stroke.csv\")\n",
    "            .drop(\"id\", axis=1)\n",
    ")"
   ]
  },
  {
   "cell_type": "markdown",
   "id": "0686ca11-fcb1-4937-865b-c7f3b91b76bc",
   "metadata": {},
   "source": [
    "# Prueba MCAR de Jamshidial Jalal"
   ]
  },
  {
   "cell_type": "code",
   "execution_count": 3,
   "id": "8a9e44c8-9407-4929-9fc8-154f61f39b06",
   "metadata": {},
   "outputs": [
    {
     "name": "stdout",
     "output_type": "stream",
     "text": [
      "Estadístico de prueba: 0.0000, p-valor: 1.0000\n",
      "✅ No se rechaza H0: Los datos faltantes pueden ser MCAR.\n"
     ]
    }
   ],
   "source": [
    "\n",
    "def test_mcar_jamshidian_jalal(df):\n",
    "    \"\"\"\n",
    "    Implementa la prueba MCAR de Jamshidian y Jalal de forma aproximada.\n",
    "    \n",
    "    Parámetros:\n",
    "    - df: DataFrame con valores numéricos y datos faltantes.\n",
    "    \n",
    "    Retorna:\n",
    "    - p-valor de la prueba (si p > 0.05, los datos son MCAR).\n",
    "    \"\"\"\n",
    "    # Identificar valores nulos\n",
    "    missing_mask = df.isnull()\n",
    "    missing_patterns = missing_mask.astype(int).groupby(list(missing_mask.columns)).size()\n",
    "\n",
    "    # Construcción de matriz de medias y covarianzas\n",
    "    complete_cases = df.dropna()\n",
    "    mean_complete = complete_cases.mean()\n",
    "    cov_complete = complete_cases.cov()\n",
    "\n",
    "    # Calcular estadístico de prueba (basado en comparación de patrones)\n",
    "    test_stat = 0\n",
    "    for pattern, count in missing_patterns.items():\n",
    "        missing_indices = np.where(pattern)[0]\n",
    "        observed = df.iloc[:, missing_indices].dropna()\n",
    "        mean_observed = observed.mean()\n",
    "        cov_observed = observed.cov()\n",
    "\n",
    "        # Diferencia de medias\n",
    "        diff = mean_observed - mean_complete[missing_indices]\n",
    "\n",
    "        # Calcular estadístico chi-cuadrado\n",
    "        try:\n",
    "            inv_cov = np.linalg.inv(cov_observed)\n",
    "            test_stat += count * (diff.T @ inv_cov @ diff)\n",
    "        except np.linalg.LinAlgError:\n",
    "            continue  # Saltar casos donde la matriz de covarianza no es invertible\n",
    "\n",
    "    # Grados de libertad y p-valor\n",
    "    df_degrees = sum(missing_patterns) - len(df.columns)\n",
    "    p_value = 1 - chi2.cdf(test_stat, df_degrees)\n",
    "\n",
    "    return test_stat, p_value\n",
    "\n",
    "# 📌 Cargar dataset\n",
    "df = pd.read_csv(\"stroke.csv\")\n",
    "\n",
    "# 📌 Seleccionar solo variables numéricas\n",
    "df_numeric = df[['age', 'avg_glucose_level', 'bmi']]\n",
    "\n",
    "# 📌 Aplicar prueba MCAR de Jamshidian y Jalal\n",
    "test_stat, p_value = test_mcar_jamshidian_jalal(df_numeric)\n",
    "\n",
    "# 📌 Mostrar resultado\n",
    "print(f\"Estadístico de prueba: {test_stat:.4f}, p-valor: {p_value:.4f}\")\n",
    "\n",
    "# 📌 Interpretación:\n",
    "if p_value > 0.05:\n",
    "    print(\"✅ No se rechaza H0: Los datos faltantes pueden ser MCAR.\")\n",
    "else:\n",
    "    print(\"❌ Se rechaza H0: Los datos faltantes NO son completamente al azar (posiblemente MAR o MNAR).\")"
   ]
  },
  {
   "cell_type": "markdown",
   "id": "2453ab1f-126f-4f89-99f1-225ba676f942",
   "metadata": {},
   "source": [
    "***\n",
    "# Pruebas MAR\n",
    "\n",
    "## Kolmogorov-Smirnov:"
   ]
  },
  {
   "cell_type": "code",
   "execution_count": 13,
   "id": "f610a1cc-4fb7-4600-a157-66fa3088c092",
   "metadata": {},
   "outputs": [],
   "source": [
    "df['bmi_missing'] = df['bmi'].isna().astype(int)"
   ]
  },
  {
   "cell_type": "code",
   "execution_count": 15,
   "id": "240763ec-2fed-4817-a915-f3a9233bd967",
   "metadata": {},
   "outputs": [],
   "source": [
    "# Subconjunto donde BMI está ausente\n",
    "age_missing = df.loc[df['bmi_missing'] == 1, 'age'].dropna()   #luego cambiar a avg_glucose_level\n",
    "\n",
    "# Subconjunto donde BMI está presente\n",
    "age_not_missing = df.loc[df['bmi_missing'] == 0, 'age'].dropna() #Luego cambiar a avg_glucose_level"
   ]
  },
  {
   "cell_type": "code",
   "execution_count": 21,
   "id": "0516ea19-0f44-464f-be31-1db960911bd3",
   "metadata": {},
   "outputs": [
    {
     "name": "stdout",
     "output_type": "stream",
     "text": [
      "KS Statistic: 0.21779065560362781\n",
      "p-value: 1.6067879142273805e-08\n"
     ]
    }
   ],
   "source": [
    "\n",
    "# 📌 Separar los datos completos e incompletos de BMI\n",
    "df_complete = df_numeric.dropna()\n",
    "df_missing = df_numeric[df_numeric['bmi'].isnull()]\n",
    "\n",
    "# 📌 Prueba de Kolmogorov-Smirnov\n",
    "ks_stat, ks_p_value = ks_2samp(age_missing, age_not_missing)\n",
    "print(\"KS Statistic:\", ks_stat)\n",
    "print(\"p-value:\", ks_p_value)"
   ]
  },
  {
   "cell_type": "markdown",
   "id": "028aec68-019d-4df7-8c7a-3754d0f35b68",
   "metadata": {},
   "source": [
    "## U de Mann-Whitney:"
   ]
  },
  {
   "cell_type": "code",
   "execution_count": 70,
   "id": "0cd192a5-0401-48d6-a422-2410a61ba999",
   "metadata": {},
   "outputs": [],
   "source": [
    "df['bmi_missing'] = df['bmi'].isna().astype(int)"
   ]
  },
  {
   "cell_type": "code",
   "execution_count": 58,
   "id": "f9cd1702-4c37-4a19-b722-ea232e834971",
   "metadata": {},
   "outputs": [],
   "source": [
    "# Subconjunto donde BMI está ausente\n",
    "age_missing = df.loc[df['bmi_missing'] == 1, 'age'].dropna()   #luego cambiar a avg_glucose_level\n",
    "\n",
    "# Subconjunto donde BMI está presente\n",
    "age_not_missing = df.loc[df['bmi_missing'] == 0, 'age'].dropna() #Luego cambiar a avg_glucose_level\n"
   ]
  },
  {
   "cell_type": "code",
   "execution_count": 60,
   "id": "8fc7eb3a-272b-49cf-95ed-3d3ac5cd6482",
   "metadata": {},
   "outputs": [
    {
     "name": "stdout",
     "output_type": "stream",
     "text": [
      "U-Statistic: 610499.0\n",
      "p-value: 1.098407129730987e-08\n"
     ]
    }
   ],
   "source": [
    "u_stat, p_value_u = stats.mannwhitneyu(age_missing, age_not_missing, alternative='two-sided')\n",
    "\n",
    "print(\"U-Statistic:\", u_stat)\n",
    "print(\"p-value:\", p_value_u)"
   ]
  },
  {
   "cell_type": "markdown",
   "id": "2f6b6987-e5e1-40e5-afc6-8db661757004",
   "metadata": {},
   "source": [
    "Los resultados mostrados, indican que existen asociaciones significativas entre los\n",
    "valores nulos y variables como la edad y el género. Estos resultados sugieren que los datos faltantes\n",
    "no son completamente aleatorios y probablemente siguen un patrón MAR. "
   ]
  }
 ],
 "metadata": {
  "kernelspec": {
   "display_name": "Python 3 (ipykernel)",
   "language": "python",
   "name": "python3"
  },
  "language_info": {
   "codemirror_mode": {
    "name": "ipython",
    "version": 3
   },
   "file_extension": ".py",
   "mimetype": "text/x-python",
   "name": "python",
   "nbconvert_exporter": "python",
   "pygments_lexer": "ipython3",
   "version": "3.12.3"
  }
 },
 "nbformat": 4,
 "nbformat_minor": 5
}
